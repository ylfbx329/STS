{
 "cells": [
  {
   "cell_type": "code",
   "execution_count": 8,
   "outputs": [],
   "source": [
    "import os\n",
    "import random\n",
    "\n",
    "import numpy as np\n",
    "import matplotlib.pyplot as plt\n",
    "from scipy.stats import gaussian_kde\n",
    "from matplotlib.colors import LogNorm\n",
    "from PIL import Image\n",
    "\n",
    "# Generate fake data\n",
    "x = np.random.normal(size=500)\n",
    "y = x * 3 + np.random.normal(size=500)\n",
    "\n",
    "# Calculate the point density\n",
    "xy = np.vstack([x, y])\n",
    "z = gaussian_kde(xy)(xy)\n",
    "\n",
    "img = Image.fromarray(xy)\n",
    "img.show()"
   ],
   "metadata": {
    "collapsed": false
   },
   "id": "initial_id"
  },
  {
   "cell_type": "code",
   "execution_count": null,
   "id": "d95710be29c23614",
   "metadata": {
    "collapsed": false
   },
   "outputs": [],
   "source": [
    "# Sort the points by density, so that the densest points are plotted last\n",
    "idx = z.argsort()\n",
    "x, y, z = x[idx], y[idx], z[idx]\n",
    "\n",
    "fig, ax = plt.subplots()\n",
    "plt.scatter(x, y, c=z, s=20, cmap='Spectral')\n",
    "plt.colorbar()\n",
    "plt.show()"
   ]
  },
  {
   "cell_type": "code",
   "execution_count": null,
   "id": "1d465c4cd8e78e32",
   "metadata": {
    "collapsed": false
   },
   "outputs": [],
   "source": [
    "from PIL import Image\n",
    "\n",
    "img = Image.fromarray(z)\n",
    "img.show()"
   ]
  },
  {
   "cell_type": "code",
   "execution_count": null,
   "id": "196ae143a5eb589b",
   "metadata": {
    "collapsed": false
   },
   "outputs": [],
   "source": [
    "import seaborn as sns\n",
    "\n",
    "sns.kdeplot(x=x, y=y, fill=True, cmap='Spectral', cbar=True)"
   ]
  },
  {
   "cell_type": "code",
   "execution_count": null,
   "id": "51c858c1fa7494f5",
   "metadata": {
    "collapsed": false
   },
   "outputs": [],
   "source": [
    "# !pip install mpl-scatter-density\n",
    "import mpl_scatter_density\n",
    "\n",
    "N = 100000\n",
    "x = np.random.normal(size=N)\n",
    "y = x * 3 + np.random.normal(size=N)\n",
    "\n",
    "# 绘制二维散点密度图\n",
    "fig = plt.figure()\n",
    "ax = fig.add_subplot(1, 1, 1, projection='scatter_density')\n",
    "density = ax.scatter_density(x, y, cmap='Spectral_r')\n",
    "ax.set_xlim(-3, 3)\n",
    "ax.set_ylim(-10, 10)\n",
    "fig.colorbar(density, label='Number of points per pixel')\n",
    "fig.savefig('gaussian.png')"
   ]
  },
  {
   "cell_type": "code",
   "execution_count": null,
   "id": "6a127518a69e765d",
   "metadata": {
    "collapsed": false
   },
   "outputs": [],
   "source": [
    "import matplotlib.colors as mcolors\n",
    "\n",
    "norm = mcolors.TwoSlopeNorm(vmin=-1, vmax=60, vcenter=0)\n",
    "fig = plt.figure()\n",
    "ax = fig.add_subplot(1, 1, 1, projection='scatter_density')\n",
    "density = ax.scatter_density(x, y, norm=norm, cmap=plt.cm.RdBu)\n",
    "ax.set_xlim(-3, 3)\n",
    "ax.set_ylim(-10, 10)\n",
    "fig.colorbar(density, label='Number of points per pixel')\n",
    "fig.savefig('gaussian_color_coded.png')"
   ]
  },
  {
   "cell_type": "code",
   "execution_count": null,
   "id": "9237a3949baa48e9",
   "metadata": {
    "collapsed": false
   },
   "outputs": [],
   "source": [
    "array = np.where(array > 0, array, np.nan)\n",
    "# 或者\n",
    "array = np.ma.masked_array(array, mask=(array <= 0))"
   ]
  },
  {
   "cell_type": "code",
   "execution_count": null,
   "id": "58f0d9ab452e28ca",
   "metadata": {
    "collapsed": false
   },
   "outputs": [],
   "source": [
    "from fast_histogram import histogram2d\n",
    "\n",
    "ymin, ymax = y.min(), y.max()\n",
    "xmin, xmax = x.min(), x.max()\n",
    "\n",
    "array = histogram2d(y, x, bins=10, range=((ymin, ymax), (xmin, xmax)))"
   ]
  },
  {
   "cell_type": "code",
   "execution_count": null,
   "id": "82ce5ab0153a8b0b",
   "metadata": {
    "collapsed": false
   },
   "outputs": [],
   "source": [
    "from osgeo import gdal\n",
    "from einops import rearrange\n",
    "import os\n",
    "\n",
    "# os.open(\"../../../data/out/sentinel/s2_20171029\",flags=gdal.GA_ReadOnly)\n",
    "\n",
    "s2_16 = gdal.Open('../data/s2_16_01.tif')\n",
    "s2_16_arr = s2_16.ReadAsArray()\n",
    "s2_17 = gdal.Open('../data/s2_17_01.tif')\n",
    "s2_17_arr = s2_17.ReadAsArray()\n",
    "mod = gdal.Open('../data/modis_01_up.tif')\n",
    "mod_arr = mod.ReadAsArray()\n",
    "\n",
    "s2_16_arr = rearrange(s2_16_arr, \"c h w -> h w c\")\n",
    "s2_17_arr = rearrange(s2_17_arr, \"c h w -> h w c\")\n",
    "mod_arr = rearrange(mod_arr, \"c h w -> h w c\")"
   ]
  },
  {
   "cell_type": "code",
   "execution_count": null,
   "id": "e4ac62e3013c7816",
   "metadata": {
    "collapsed": false
   },
   "outputs": [],
   "source": [
    "s2_17_arr.dtype"
   ]
  },
  {
   "cell_type": "code",
   "execution_count": null,
   "id": "293f074403ccf778",
   "metadata": {
    "collapsed": false
   },
   "outputs": [],
   "source": [
    "print(s2_16.RasterXSize, s2_16.RasterYSize)\n",
    "print(mod.RasterXSize, mod.RasterYSize)"
   ]
  },
  {
   "cell_type": "code",
   "execution_count": null,
   "id": "375ad036f8943a56",
   "metadata": {
    "collapsed": false
   },
   "outputs": [],
   "source": [
    "s2_16_arr.shape, mod_arr.shape, s2_17_arr.shape"
   ]
  },
  {
   "cell_type": "code",
   "execution_count": null,
   "id": "7e8e3bc98a4d68e2",
   "metadata": {
    "collapsed": false
   },
   "outputs": [],
   "source": []
  },
  {
   "cell_type": "code",
   "execution_count": null,
   "id": "d1d27923a219a30b",
   "metadata": {
    "collapsed": false
   },
   "outputs": [],
   "source": [
    "s2_17_arr.shape"
   ]
  },
  {
   "cell_type": "code",
   "execution_count": null,
   "id": "fea433ec63a64790",
   "metadata": {
    "collapsed": false
   },
   "outputs": [],
   "source": [
    "import numpy as np\n",
    "\n",
    "img = np.concatenate((mod_arr, s2_16_arr, s2_17_arr), axis=-1)\n",
    "img.shape"
   ]
  },
  {
   "cell_type": "code",
   "execution_count": null,
   "id": "11582ca65768028",
   "metadata": {
    "collapsed": false
   },
   "outputs": [],
   "source": [
    "np.mean(s2_16_arr, axis=(0, 1))"
   ]
  },
  {
   "cell_type": "code",
   "execution_count": null,
   "id": "465eab54c7a3af5",
   "metadata": {
    "collapsed": false
   },
   "outputs": [],
   "source": [
    "np.mean(mod_arr, axis=(0, 1))"
   ]
  },
  {
   "cell_type": "code",
   "execution_count": null,
   "id": "aa5664676e0fdf17",
   "metadata": {
    "collapsed": false
   },
   "outputs": [],
   "source": [
    "np.mean(img, axis=(0, 1))"
   ]
  },
  {
   "cell_type": "code",
   "execution_count": null,
   "id": "55a11711dcc08279",
   "metadata": {
    "collapsed": false
   },
   "outputs": [],
   "source": [
    "from random import randrange\n",
    "\n",
    "\n",
    "def save_random_patches(mod_img, s2_train_img, s2_label_img, save_path, patch_size=(200, 200), train_size=100):\n",
    "    \"\"\"\n",
    "    输入img的shape为h,w,c\n",
    "    :param mod_img: \n",
    "    :param s2_train_img: \n",
    "    :param s2_label_img: \n",
    "    :param save_path: \n",
    "    :param patch_size: \n",
    "    :param train_size: \n",
    "    :return: \n",
    "    \"\"\"\n",
    "    img = np.concatenate((mod_img, s2_train_img, s2_label_img), axis=-1)  # h,w,c\n",
    "\n",
    "    band = img.shape[-1]\n",
    "\n",
    "    mod = np.zeros((train_size, patch_size[0], patch_size[1], band)).astype(np.float32)\n",
    "    s2 = np.zeros((train_size, patch_size[0], patch_size[1], band)).astype(np.float32)\n",
    "    label = np.zeros((train_size, patch_size[0], patch_size[1], band)).astype(np.float32)\n",
    "\n",
    "    for i in range(0, train_size):\n",
    "        # while True:\n",
    "        upper_left_x = randrange(0, img.shape[0] - patch_size[0])\n",
    "        upper_left_y = randrange(0, img.shape[1] - patch_size[1])\n",
    "        crop_point = [upper_left_x,\n",
    "                      upper_left_y,\n",
    "                      upper_left_x + patch_size[0],\n",
    "                      upper_left_y + patch_size[1]]\n",
    "        patch = img[crop_point[0]:crop_point[2], crop_point[1]:crop_point[3]]  # h,w,c\n",
    "        mod[i] = patch[:, :, :, :7]\n",
    "        s2[i] = patch[:, :, :, 7:11]\n",
    "        label[i] = patch[:, :, :, 11:]\n",
    "\n",
    "    np.save(save_path + '/mod', mod)\n",
    "    del mod\n",
    "    np.save(save_path + '/s2', s2)\n",
    "    del s2\n",
    "    np.save(save_path + '/label', label)\n",
    "    del label\n",
    "\n",
    "    print('Done!')"
   ]
  },
  {
   "cell_type": "code",
   "execution_count": null,
   "id": "40d73aea0105af59",
   "metadata": {
    "collapsed": false
   },
   "outputs": [],
   "source": [
    "save_random_patches(mod_arr, s2_16_arr, s2_17_arr, save_path=\"../data\", patch_size=(200, 200), train_size=100)"
   ]
  },
  {
   "cell_type": "code",
   "execution_count": null,
   "id": "42bfff21791c69a7",
   "metadata": {
    "collapsed": false
   },
   "outputs": [],
   "source": [
    "from osgeo import gdal\n",
    "import matplotlib.pyplot as plt\n",
    "import numpy as np\n",
    "\n",
    "\n",
    "def truncated_linear_stretch(image, truncated_value, max_out=255, min_out=0):\n",
    "    def gray_process(gray):\n",
    "        truncated_down = np.percentile(gray, truncated_value)\n",
    "        truncated_up = np.percentile(gray, 100 - truncated_value)\n",
    "        gray = (gray - truncated_down) / (truncated_up - truncated_down) * (max_out - min_out) + min_out\n",
    "        gray[gray < min_out] = min_out\n",
    "        gray[gray > max_out] = max_out\n",
    "        if (max_out <= 255):\n",
    "            gray = np.uint8(gray)\n",
    "        elif (max_out <= 65535):\n",
    "            gray = np.uint16(gray)\n",
    "        return gray\n",
    "\n",
    "    #  如果是多波段\n",
    "    if (len(image.shape) == 3):\n",
    "        image_stretch = []\n",
    "        for i in range(image.shape[0]):\n",
    "            gray = gray_process(image[i])\n",
    "            image_stretch.append(gray)\n",
    "        image_stretch = np.array(image_stretch)\n",
    "    #  如果是单波段\n",
    "    else:\n",
    "        image_stretch = gray_process(image)\n",
    "    return image_stretch\n",
    "\n",
    "\n",
    "def display_rgb(image_path, band_indices):\n",
    "    # 打开TIFF文件\n",
    "    dataset = gdal.Open(image_path, gdal.GA_ReadOnly)\n",
    "\n",
    "    if dataset is None:\n",
    "        print(\"无法打开文件\")\n",
    "        return\n",
    "\n",
    "    # 读取选定的三个波段数据\n",
    "    band1 = dataset.GetRasterBand(band_indices[0])\n",
    "    band2 = dataset.GetRasterBand(band_indices[1])\n",
    "    band3 = dataset.GetRasterBand(band_indices[2])\n",
    "\n",
    "    data1 = band1.ReadAsArray()\n",
    "    data2 = band2.ReadAsArray()\n",
    "    data3 = band3.ReadAsArray()\n",
    "\n",
    "    data1 = truncated_linear_stretch(data1, 2)\n",
    "    data1 = truncated_linear_stretch(data1, 2)\n",
    "    data1 = truncated_linear_stretch(data1, 2)\n",
    "\n",
    "    # 关闭数据集\n",
    "    dataset = None\n",
    "\n",
    "    # 创建RGB图像\n",
    "    rgb_image = np.dstack((data1, data2, data3))\n",
    "    print(rgb_image.shape)\n",
    "    # 显示图像\n",
    "    plt.imshow(rgb_image)\n",
    "    plt.title(band_indices)\n",
    "    plt.show()\n",
    "\n",
    "\n",
    "# 替换为你的TIFF文件路径\n",
    "image_path = \"../data/s2/s2_0.tif\"\n",
    "\n",
    "band_list = [(1, 2, 3), (1, 2, 4), (1, 3, 2), (1, 3, 4), (1, 4, 2), (1, 4, 3), (2, 1, 3), (2, 1, 4), (2, 3, 1), (2, 3, 4), (2, 4, 1), (2, 4, 3),\n",
    "             (3, 1, 2), (3, 1, 4), (3, 2, 1), (3, 2, 4), (3, 4, 1), (3, 4, 2), (4, 1, 2), (4, 1, 3), (4, 2, 1), (4, 2, 3), (4, 3, 1), (4, 3, 2)]\n",
    "for bands in band_list:\n",
    "    # 选择要显示的三个波段的索引（默认为1、2、3）\n",
    "    selected_band_indices = bands\n",
    "\n",
    "    # 显示RGB图像\n",
    "    display_rgb(image_path, selected_band_indices)"
   ]
  },
  {
   "cell_type": "code",
   "execution_count": 28,
   "outputs": [
    {
     "name": "stdout",
     "output_type": "stream",
     "text": [
      "torch.Size([1, 256, 256])\n"
     ]
    }
   ],
   "source": [
    "import torch\n",
    "import random\n",
    "\n",
    "random.seed(0)\n",
    "factor = 4\n",
    "\n",
    "a = torch.randn(1, 256, 256)\n",
    "print(a.shape)\n",
    "\n"
   ],
   "metadata": {
    "collapsed": false,
    "ExecuteTime": {
     "end_time": "2024-01-19T07:39:03.901578700Z",
     "start_time": "2024-01-19T07:39:03.889578200Z"
    }
   },
   "id": "bd1f89885f8a10af"
  },
  {
   "cell_type": "code",
   "execution_count": 29,
   "outputs": [
    {
     "name": "stdout",
     "output_type": "stream",
     "text": [
      "torch.Size([1, 256, 64])\n",
      "torch.Size([1, 256, 256]) tensor([False,  True])\n"
     ]
    }
   ],
   "source": [
    "a_nearest = torch.nn.functional.interpolate(a, scale_factor=1 / factor, mode='nearest')\n",
    "print(a_nearest.shape)\n",
    "a_nearest_up = torch.nn.functional.interpolate(a_nearest, scale_factor=factor, mode='nearest')\n",
    "print(a_nearest_up.shape, torch.unique(a_nearest_up == a))"
   ],
   "metadata": {
    "collapsed": false,
    "ExecuteTime": {
     "end_time": "2024-01-19T07:39:05.122885500Z",
     "start_time": "2024-01-19T07:39:05.117885300Z"
    }
   },
   "id": "5f98a56b392dd38e"
  },
  {
   "cell_type": "code",
   "execution_count": 30,
   "outputs": [
    {
     "name": "stdout",
     "output_type": "stream",
     "text": [
      "torch.Size([1, 256, 64])\n",
      "torch.Size([1, 256, 256]) tensor([False])\n"
     ]
    }
   ],
   "source": [
    "a_linear = torch.nn.functional.interpolate(a, scale_factor=1 / factor, mode='linear')\n",
    "print(a_linear.shape)\n",
    "a_linear_up = torch.nn.functional.interpolate(a_linear, scale_factor=factor, mode='linear')\n",
    "print(a_linear_up.shape, torch.unique(a_linear_up == a))"
   ],
   "metadata": {
    "collapsed": false,
    "ExecuteTime": {
     "end_time": "2024-01-19T07:39:06.240304900Z",
     "start_time": "2024-01-19T07:39:06.220304900Z"
    }
   },
   "id": "301f56458037a6da"
  },
  {
   "cell_type": "code",
   "execution_count": 31,
   "outputs": [
    {
     "name": "stdout",
     "output_type": "stream",
     "text": [
      "torch.Size([1, 1, 256, 256])\n"
     ]
    }
   ],
   "source": [
    "a = torch.randn(1, 1, 256, 256)\n",
    "print(a.shape)"
   ],
   "metadata": {
    "collapsed": false,
    "ExecuteTime": {
     "end_time": "2024-01-19T07:39:07.161238600Z",
     "start_time": "2024-01-19T07:39:07.141239200Z"
    }
   },
   "id": "81699b8c1f0f2dc1"
  },
  {
   "cell_type": "code",
   "execution_count": 32,
   "outputs": [
    {
     "name": "stdout",
     "output_type": "stream",
     "text": [
      "torch.Size([1, 1, 64, 64])\n",
      "torch.Size([1, 1, 256, 256]) tensor([False])\n"
     ]
    }
   ],
   "source": [
    "a_bilinear = torch.nn.functional.interpolate(a, scale_factor=1 / factor, mode='bilinear')\n",
    "print(a_bilinear.shape)\n",
    "a_bilinear_up = torch.nn.functional.interpolate(a_bilinear, scale_factor=factor, mode='bilinear')\n",
    "print(a_bilinear_up.shape, torch.unique(a_bilinear_up == a))"
   ],
   "metadata": {
    "collapsed": false,
    "ExecuteTime": {
     "end_time": "2024-01-19T07:39:08.067274700Z",
     "start_time": "2024-01-19T07:39:08.057273900Z"
    }
   },
   "id": "5737a13ba15c5cb"
  },
  {
   "cell_type": "code",
   "execution_count": 33,
   "outputs": [
    {
     "name": "stdout",
     "output_type": "stream",
     "text": [
      "torch.Size([1, 1, 64, 64])\n",
      "torch.Size([1, 1, 256, 256]) tensor([False])\n"
     ]
    }
   ],
   "source": [
    "a_bicubic = torch.nn.functional.interpolate(a, scale_factor=1 / factor, mode='bicubic')\n",
    "print(a_bicubic.shape)\n",
    "a_bicubic_up = torch.nn.functional.interpolate(a_bicubic, scale_factor=factor, mode='bicubic')\n",
    "print(a_bicubic_up.shape, torch.unique(a_bicubic_up == a))"
   ],
   "metadata": {
    "collapsed": false,
    "ExecuteTime": {
     "end_time": "2024-01-19T07:39:09.120932Z",
     "start_time": "2024-01-19T07:39:09.098931800Z"
    }
   },
   "id": "48c0eb6b21b505c3"
  }
 ],
 "metadata": {
  "kernelspec": {
   "display_name": "Python 3 (ipykernel)",
   "language": "python",
   "name": "python3"
  },
  "language_info": {
   "codemirror_mode": {
    "name": "ipython",
    "version": 3
   },
   "file_extension": ".py",
   "mimetype": "text/x-python",
   "name": "python",
   "nbconvert_exporter": "python",
   "pygments_lexer": "ipython3",
   "version": "3.10.13"
  }
 },
 "nbformat": 4,
 "nbformat_minor": 5
}
